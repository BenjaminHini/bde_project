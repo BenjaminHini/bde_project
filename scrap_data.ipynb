{
 "cells": [
  {
   "cell_type": "code",
   "execution_count": 2,
   "metadata": {},
   "outputs": [],
   "source": [
    "import requests\n",
    "from bs4 import BeautifulSoup\n",
    "import pandas as pd\n",
    "import numpy as np"
   ]
  },
  {
   "cell_type": "code",
   "execution_count": 3,
   "metadata": {},
   "outputs": [],
   "source": [
    "ZODIAC_SIGNS = {\n",
    "    \"Aries\": 1,\n",
    "    \"Taurus\": 2,\n",
    "    \"Gemini\": 3,\n",
    "    \"Cancer\": 4,\n",
    "    \"Leo\": 5,\n",
    "    \"Virgo\": 6,\n",
    "    \"Libra\": 7,\n",
    "    \"Scorpio\": 8,\n",
    "    \"Sagittarius\": 9,\n",
    "    \"Capricorn\": 10,\n",
    "    \"Aquarius\": 11,\n",
    "    \"Pisces\": 12\n",
    "}\n",
    "\n"
   ]
  },
  {
   "cell_type": "code",
   "execution_count": 4,
   "metadata": {},
   "outputs": [],
   "source": [
    "def get_horoscope_by_day(zodiac_sign: int, day: str):\n",
    "    if not \"-\" in day:\n",
    "        res = requests.get(f\"https://www.horoscope.com/us/horoscopes/general/horoscope-general-daily-{day}.aspx?sign={zodiac_sign}\")\n",
    "    else:\n",
    "        day = day.replace(\"-\", \"\")\n",
    "        res = requests.get(f\"https://www.horoscope.com/us/horoscopes/general/horoscope-archive.aspx?sign={zodiac_sign}&laDate={day}\")\n",
    "    soup = BeautifulSoup(res.content, 'html.parser')\n",
    "    data = soup.find('div', attrs={'class': 'main-horoscope'})\n",
    "    return data.p.text"
   ]
  },
  {
   "cell_type": "code",
   "execution_count": 5,
   "metadata": {},
   "outputs": [],
   "source": [
    "array = pd.date_range(start='2022-1-1', periods=365)\n",
    "# print(str(array[0]).split(' ')[0])\n",
    "description = []\n",
    "signs= []\n",
    "dates = []\n",
    "\n",
    "\n",
    "for sign in range(12):\n",
    "    for i in range(365):\n",
    "        signs.append(str(sign+1))\n",
    "        date = str(array[i]).split(' ')[0]\n",
    "        dates.append(date)\n",
    "        description.append(get_horoscope_by_day(sign+1,date))\n",
    "\n"
   ]
  },
  {
   "cell_type": "code",
   "execution_count": 8,
   "metadata": {},
   "outputs": [],
   "source": [
    "df = pd.DataFrame([dates,signs,description])\n",
    "df = df.T\n",
    "df.columns = ['dates','signs','description']\n",
    "df['description'] = df['description'].str.replace(',','')\n",
    "df.to_excel('data.xlsx',index=False)\n",
    "df.to_csv('data.csv',index=False)"
   ]
  }
 ],
 "metadata": {
  "kernelspec": {
   "display_name": "Python 3",
   "language": "python",
   "name": "python3"
  },
  "language_info": {
   "codemirror_mode": {
    "name": "ipython",
    "version": 3
   },
   "file_extension": ".py",
   "mimetype": "text/x-python",
   "name": "python",
   "nbconvert_exporter": "python",
   "pygments_lexer": "ipython3",
   "version": "3.10.1"
  },
  "orig_nbformat": 4,
  "vscode": {
   "interpreter": {
    "hash": "70bd44d7b8936ce0ef5a810747a06bf791e34f7a77e3db5d7c719fb02184a935"
   }
  }
 },
 "nbformat": 4,
 "nbformat_minor": 2
}
